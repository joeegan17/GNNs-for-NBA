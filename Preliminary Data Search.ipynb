{
 "cells": [
  {
   "cell_type": "code",
   "execution_count": 34,
   "metadata": {},
   "outputs": [],
   "source": [
    "import pandas as pd\n",
    "from nba_api.stats.static import teams, players\n",
    "from nba_api.stats.endpoints import leaguegamefinder, playergamelog, teamgamelog\n",
    "from tqdm import tqdm\n",
    "import time\n",
    "from nba_api.stats.endpoints import commonallplayers"
   ]
  },
  {
   "cell_type": "code",
   "execution_count": 36,
   "metadata": {},
   "outputs": [],
   "source": [
    "#all_games_data = []"
   ]
  },
  {
   "cell_type": "code",
   "execution_count": 37,
   "metadata": {},
   "outputs": [],
   "source": [
    "\n",
    "#Get all NBA teams and players\n",
    "nba_teams = teams.get_teams()\n",
    "all_players = players.get_players()\n"
   ]
  },
  {
   "cell_type": "code",
   "execution_count": 61,
   "metadata": {},
   "outputs": [],
   "source": [
    "\n",
    "#efine the seasons you want to fetch data for\n",
    "seasons = ['2013-14', '2014-15', '2015-16', '2016-17', '2017-18', '2018-19', '2020-21']\n"
   ]
  },
  {
   "cell_type": "code",
   "execution_count": 4,
   "metadata": {},
   "outputs": [],
   "source": [
    "import pandas as pd\n",
    "from tqdm import tqdm\n",
    "from nba_api.stats.static import teams\n",
    "from nba_api.stats.endpoints import boxscoretraditionalv2, boxscoreadvancedv2\n",
    "\n",
    "from tqdm import tqdm\n",
    "import time\n"
   ]
  },
  {
   "cell_type": "code",
   "execution_count": null,
   "metadata": {},
   "outputs": [],
   "source": [
    "\n",
    "\n",
    "season = '2013-14'\n",
    "nba_teams = teams.get_teams()\n",
    "\n",
    "# store data for each team\n",
    "games_data = []\n",
    "\n",
    "for team in tqdm(nba_teams, desc=f'Fetching games data for {season}'):\n",
    "    team_id = team['id']\n",
    "    gamefinder = leaguegamefinder.LeagueGameFinder(team_id_nullable=team_id, season_nullable=season)\n",
    "    games = gamefinder.get_data_frames()[0]\n",
    "    games_data.append(games)\n",
    "    time.sleep(0.6)\n",
    "\n",
    "#combine at the end\n",
    "games_data = pd.concat(games_data).drop_duplicates(subset='GAME_ID')\n"
   ]
  },
  {
   "cell_type": "code",
   "execution_count": 5,
   "metadata": {},
   "outputs": [
    {
     "name": "stderr",
     "output_type": "stream",
     "text": [
      "  6%|▋         | 90/1434 [02:35<25:46,  1.15s/it]  "
     ]
    },
    {
     "name": "stdout",
     "output_type": "stream",
     "text": [
      "Error fetching data for game_id: 0011300101\n"
     ]
    },
    {
     "name": "stderr",
     "output_type": "stream",
     "text": [
      "  6%|▋         | 91/1434 [02:35<22:06,  1.01it/s]"
     ]
    },
    {
     "name": "stdout",
     "output_type": "stream",
     "text": [
      "Error fetching data for game_id: 0011300089\n"
     ]
    },
    {
     "name": "stderr",
     "output_type": "stream",
     "text": [
      "  6%|▋         | 92/1434 [02:37<26:03,  1.16s/it]"
     ]
    },
    {
     "name": "stdout",
     "output_type": "stream",
     "text": [
      "Error fetching data for game_id: 0011300079\n"
     ]
    },
    {
     "name": "stderr",
     "output_type": "stream",
     "text": [
      "  6%|▋         | 93/1434 [02:37<21:42,  1.03it/s]"
     ]
    },
    {
     "name": "stdout",
     "output_type": "stream",
     "text": [
      "Error fetching data for game_id: 0011300068\n"
     ]
    },
    {
     "name": "stderr",
     "output_type": "stream",
     "text": [
      "  7%|▋         | 94/1434 [02:38<18:01,  1.24it/s]"
     ]
    },
    {
     "name": "stdout",
     "output_type": "stream",
     "text": [
      "Error fetching data for game_id: 0011300043\n"
     ]
    },
    {
     "name": "stderr",
     "output_type": "stream",
     "text": [
      "  7%|▋         | 95/1434 [02:38<17:04,  1.31it/s]"
     ]
    },
    {
     "name": "stdout",
     "output_type": "stream",
     "text": [
      "Error fetching data for game_id: 0011300019\n"
     ]
    },
    {
     "name": "stderr",
     "output_type": "stream",
     "text": [
      "  7%|▋         | 96/1434 [02:39<14:47,  1.51it/s]"
     ]
    },
    {
     "name": "stdout",
     "output_type": "stream",
     "text": [
      "Error fetching data for game_id: 0011300012\n"
     ]
    },
    {
     "name": "stderr",
     "output_type": "stream",
     "text": [
      " 12%|█▏        | 175/1434 [08:48<1:31:50,  4.38s/it]"
     ]
    },
    {
     "name": "stdout",
     "output_type": "stream",
     "text": [
      "Error fetching data for game_id: 0011300094\n"
     ]
    },
    {
     "name": "stderr",
     "output_type": "stream",
     "text": [
      " 12%|█▏        | 176/1434 [08:50<1:17:45,  3.71s/it]"
     ]
    },
    {
     "name": "stdout",
     "output_type": "stream",
     "text": [
      "Error fetching data for game_id: 0011300081\n"
     ]
    },
    {
     "name": "stderr",
     "output_type": "stream",
     "text": [
      " 12%|█▏        | 177/1434 [08:53<1:12:47,  3.47s/it]"
     ]
    },
    {
     "name": "stdout",
     "output_type": "stream",
     "text": [
      "Error fetching data for game_id: 0011300058\n"
     ]
    },
    {
     "name": "stderr",
     "output_type": "stream",
     "text": [
      " 12%|█▏        | 178/1434 [08:55<1:04:02,  3.06s/it]"
     ]
    },
    {
     "name": "stdout",
     "output_type": "stream",
     "text": [
      "Error fetching data for game_id: 0011300056\n"
     ]
    },
    {
     "name": "stderr",
     "output_type": "stream",
     "text": [
      " 12%|█▏        | 179/1434 [08:57<55:24,  2.65s/it]  "
     ]
    },
    {
     "name": "stdout",
     "output_type": "stream",
     "text": [
      "Error fetching data for game_id: 0011300040\n"
     ]
    },
    {
     "name": "stderr",
     "output_type": "stream",
     "text": [
      " 13%|█▎        | 180/1434 [08:59<49:34,  2.37s/it]"
     ]
    },
    {
     "name": "stdout",
     "output_type": "stream",
     "text": [
      "Error fetching data for game_id: 0011300033\n"
     ]
    },
    {
     "name": "stderr",
     "output_type": "stream",
     "text": [
      " 13%|█▎        | 181/1434 [09:01<50:54,  2.44s/it]"
     ]
    },
    {
     "name": "stdout",
     "output_type": "stream",
     "text": [
      "Error fetching data for game_id: 0011300026\n"
     ]
    },
    {
     "name": "stderr",
     "output_type": "stream",
     "text": [
      " 13%|█▎        | 182/1434 [09:03<46:16,  2.22s/it]"
     ]
    },
    {
     "name": "stdout",
     "output_type": "stream",
     "text": [
      "Error fetching data for game_id: 0011300011\n"
     ]
    },
    {
     "name": "stderr",
     "output_type": "stream",
     "text": [
      " 18%|█▊        | 259/1434 [14:51<1:08:24,  3.49s/it]"
     ]
    },
    {
     "name": "stdout",
     "output_type": "stream",
     "text": [
      "Error fetching data for game_id: 0011300104\n"
     ]
    },
    {
     "name": "stderr",
     "output_type": "stream",
     "text": [
      " 18%|█▊        | 260/1434 [14:53<1:02:02,  3.17s/it]"
     ]
    },
    {
     "name": "stdout",
     "output_type": "stream",
     "text": [
      "Error fetching data for game_id: 0011300096\n"
     ]
    },
    {
     "name": "stderr",
     "output_type": "stream",
     "text": [
      " 18%|█▊        | 261/1434 [14:55<56:15,  2.88s/it]  "
     ]
    },
    {
     "name": "stdout",
     "output_type": "stream",
     "text": [
      "Error fetching data for game_id: 0011300085\n"
     ]
    },
    {
     "name": "stderr",
     "output_type": "stream",
     "text": [
      " 18%|█▊        | 262/1434 [14:58<53:37,  2.75s/it]"
     ]
    },
    {
     "name": "stdout",
     "output_type": "stream",
     "text": [
      "Error fetching data for game_id: 0011300077\n"
     ]
    },
    {
     "name": "stderr",
     "output_type": "stream",
     "text": [
      " 18%|█▊        | 263/1434 [15:00<49:38,  2.54s/it]"
     ]
    },
    {
     "name": "stdout",
     "output_type": "stream",
     "text": [
      "Error fetching data for game_id: 0011300065\n"
     ]
    },
    {
     "name": "stderr",
     "output_type": "stream",
     "text": [
      " 18%|█▊        | 264/1434 [15:02<45:18,  2.32s/it]"
     ]
    },
    {
     "name": "stdout",
     "output_type": "stream",
     "text": [
      "Error fetching data for game_id: 0011300052\n"
     ]
    },
    {
     "name": "stderr",
     "output_type": "stream",
     "text": [
      " 18%|█▊        | 265/1434 [15:03<41:15,  2.12s/it]"
     ]
    },
    {
     "name": "stdout",
     "output_type": "stream",
     "text": [
      "Error fetching data for game_id: 0011300034\n"
     ]
    },
    {
     "name": "stderr",
     "output_type": "stream",
     "text": [
      " 19%|█▊        | 266/1434 [15:05<39:16,  2.02s/it]"
     ]
    },
    {
     "name": "stdout",
     "output_type": "stream",
     "text": [
      "Error fetching data for game_id: 0011300016\n"
     ]
    },
    {
     "name": "stderr",
     "output_type": "stream",
     "text": [
      " 24%|██▍       | 343/1434 [20:27<1:06:39,  3.67s/it]"
     ]
    },
    {
     "name": "stdout",
     "output_type": "stream",
     "text": [
      "Error fetching data for game_id: 0011300108\n"
     ]
    },
    {
     "name": "stderr",
     "output_type": "stream",
     "text": [
      " 24%|██▍       | 344/1434 [20:29<55:10,  3.04s/it]  "
     ]
    },
    {
     "name": "stdout",
     "output_type": "stream",
     "text": [
      "Error fetching data for game_id: 0011300098\n"
     ]
    },
    {
     "name": "stderr",
     "output_type": "stream",
     "text": [
      " 24%|██▍       | 345/1434 [20:31<47:56,  2.64s/it]"
     ]
    },
    {
     "name": "stdout",
     "output_type": "stream",
     "text": [
      "Error fetching data for game_id: 0011300074\n"
     ]
    },
    {
     "name": "stderr",
     "output_type": "stream",
     "text": [
      " 24%|██▍       | 346/1434 [20:33<44:18,  2.44s/it]"
     ]
    },
    {
     "name": "stdout",
     "output_type": "stream",
     "text": [
      "Error fetching data for game_id: 0011300066\n"
     ]
    },
    {
     "name": "stderr",
     "output_type": "stream",
     "text": [
      " 24%|██▍       | 347/1434 [20:35<41:18,  2.28s/it]"
     ]
    },
    {
     "name": "stdout",
     "output_type": "stream",
     "text": [
      "Error fetching data for game_id: 0011300023\n"
     ]
    },
    {
     "name": "stderr",
     "output_type": "stream",
     "text": [
      " 24%|██▍       | 348/1434 [20:37<39:50,  2.20s/it]"
     ]
    },
    {
     "name": "stdout",
     "output_type": "stream",
     "text": [
      "Error fetching data for game_id: 0011300013\n"
     ]
    },
    {
     "name": "stderr",
     "output_type": "stream",
     "text": [
      " 24%|██▍       | 349/1434 [20:38<37:27,  2.07s/it]"
     ]
    },
    {
     "name": "stdout",
     "output_type": "stream",
     "text": [
      "Error fetching data for game_id: 0011300003\n"
     ]
    },
    {
     "name": "stderr",
     "output_type": "stream",
     "text": [
      " 30%|██▉       | 424/1434 [25:53<53:25,  3.17s/it]  "
     ]
    },
    {
     "name": "stdout",
     "output_type": "stream",
     "text": [
      "Error fetching data for game_id: 0011300109\n"
     ]
    },
    {
     "name": "stderr",
     "output_type": "stream",
     "text": [
      " 30%|██▉       | 425/1434 [25:54<46:52,  2.79s/it]"
     ]
    },
    {
     "name": "stdout",
     "output_type": "stream",
     "text": [
      "Error fetching data for game_id: 0011300103\n"
     ]
    },
    {
     "name": "stderr",
     "output_type": "stream",
     "text": [
      " 30%|██▉       | 426/1434 [25:58<48:34,  2.89s/it]"
     ]
    },
    {
     "name": "stdout",
     "output_type": "stream",
     "text": [
      "Error fetching data for game_id: 0011300086\n"
     ]
    },
    {
     "name": "stderr",
     "output_type": "stream",
     "text": [
      " 30%|██▉       | 427/1434 [25:59<42:18,  2.52s/it]"
     ]
    },
    {
     "name": "stdout",
     "output_type": "stream",
     "text": [
      "Error fetching data for game_id: 0011300071\n"
     ]
    },
    {
     "name": "stderr",
     "output_type": "stream",
     "text": [
      " 30%|██▉       | 428/1434 [26:01<39:37,  2.36s/it]"
     ]
    },
    {
     "name": "stdout",
     "output_type": "stream",
     "text": [
      "Error fetching data for game_id: 0011300060\n"
     ]
    },
    {
     "name": "stderr",
     "output_type": "stream",
     "text": [
      " 30%|██▉       | 429/1434 [26:03<36:02,  2.15s/it]"
     ]
    },
    {
     "name": "stdout",
     "output_type": "stream",
     "text": [
      "Error fetching data for game_id: 0011300037\n"
     ]
    },
    {
     "name": "stderr",
     "output_type": "stream",
     "text": [
      " 30%|██▉       | 430/1434 [26:05<33:40,  2.01s/it]"
     ]
    },
    {
     "name": "stdout",
     "output_type": "stream",
     "text": [
      "Error fetching data for game_id: 0011300007\n"
     ]
    },
    {
     "name": "stderr",
     "output_type": "stream",
     "text": [
      " 30%|███       | 431/1434 [26:07<35:25,  2.12s/it]"
     ]
    },
    {
     "name": "stdout",
     "output_type": "stream",
     "text": [
      "Error fetching data for game_id: 0011300002\n"
     ]
    },
    {
     "name": "stderr",
     "output_type": "stream",
     "text": [
      " 35%|███▌      | 509/1434 [31:56<53:49,  3.49s/it]  "
     ]
    },
    {
     "name": "stdout",
     "output_type": "stream",
     "text": [
      "Error fetching data for game_id: 0011300115\n"
     ]
    },
    {
     "name": "stderr",
     "output_type": "stream",
     "text": [
      " 36%|███▌      | 510/1434 [31:59<48:52,  3.17s/it]"
     ]
    },
    {
     "name": "stdout",
     "output_type": "stream",
     "text": [
      "Error fetching data for game_id: 0011300087\n"
     ]
    },
    {
     "name": "stderr",
     "output_type": "stream",
     "text": [
      " 36%|███▌      | 511/1434 [32:01<45:03,  2.93s/it]"
     ]
    },
    {
     "name": "stdout",
     "output_type": "stream",
     "text": [
      "Error fetching data for game_id: 0011300075\n"
     ]
    },
    {
     "name": "stderr",
     "output_type": "stream",
     "text": [
      " 36%|███▌      | 512/1434 [32:04<43:46,  2.85s/it]"
     ]
    },
    {
     "name": "stdout",
     "output_type": "stream",
     "text": [
      "Error fetching data for game_id: 0011300059\n"
     ]
    },
    {
     "name": "stderr",
     "output_type": "stream",
     "text": [
      " 36%|███▌      | 513/1434 [32:06<41:35,  2.71s/it]"
     ]
    },
    {
     "name": "stdout",
     "output_type": "stream",
     "text": [
      "Error fetching data for game_id: 0011300050\n"
     ]
    },
    {
     "name": "stderr",
     "output_type": "stream",
     "text": [
      " 36%|███▌      | 514/1434 [32:08<38:22,  2.50s/it]"
     ]
    },
    {
     "name": "stdout",
     "output_type": "stream",
     "text": [
      "Error fetching data for game_id: 0011300024\n"
     ]
    },
    {
     "name": "stderr",
     "output_type": "stream",
     "text": [
      " 41%|████      | 581/1434 [37:10<52:20,  3.68s/it]  "
     ]
    },
    {
     "name": "stdout",
     "output_type": "stream",
     "text": [
      "Error fetching data for game_id: 0011300099\n"
     ]
    },
    {
     "name": "stderr",
     "output_type": "stream",
     "text": [
      " 41%|████      | 582/1434 [37:12<43:29,  3.06s/it]"
     ]
    },
    {
     "name": "stdout",
     "output_type": "stream",
     "text": [
      "Error fetching data for game_id: 0011300078\n"
     ]
    },
    {
     "name": "stderr",
     "output_type": "stream",
     "text": [
      " 41%|████      | 583/1434 [37:14<37:51,  2.67s/it]"
     ]
    },
    {
     "name": "stdout",
     "output_type": "stream",
     "text": [
      "Error fetching data for game_id: 0011300054\n"
     ]
    },
    {
     "name": "stderr",
     "output_type": "stream",
     "text": [
      " 41%|████      | 584/1434 [37:16<34:53,  2.46s/it]"
     ]
    },
    {
     "name": "stdout",
     "output_type": "stream",
     "text": [
      "Error fetching data for game_id: 0011300048\n"
     ]
    },
    {
     "name": "stderr",
     "output_type": "stream",
     "text": [
      " 41%|████      | 585/1434 [37:17<31:42,  2.24s/it]"
     ]
    },
    {
     "name": "stdout",
     "output_type": "stream",
     "text": [
      "Error fetching data for game_id: 0011300018\n"
     ]
    },
    {
     "name": "stderr",
     "output_type": "stream",
     "text": [
      " 41%|████      | 586/1434 [37:19<29:27,  2.08s/it]"
     ]
    },
    {
     "name": "stdout",
     "output_type": "stream",
     "text": [
      "Error fetching data for game_id: 0011300006\n"
     ]
    },
    {
     "name": "stderr",
     "output_type": "stream",
     "text": [
      " 46%|████▌     | 657/1434 [42:16<46:31,  3.59s/it]  "
     ]
    },
    {
     "name": "stdout",
     "output_type": "stream",
     "text": [
      "Error fetching data for game_id: 0011300107\n"
     ]
    },
    {
     "name": "stderr",
     "output_type": "stream",
     "text": [
      " 46%|████▌     | 658/1434 [42:21<52:10,  4.03s/it]"
     ]
    },
    {
     "name": "stdout",
     "output_type": "stream",
     "text": [
      "Error fetching data for game_id: 0011300100\n"
     ]
    },
    {
     "name": "stderr",
     "output_type": "stream",
     "text": [
      " 46%|████▌     | 659/1434 [42:23<46:10,  3.58s/it]"
     ]
    },
    {
     "name": "stdout",
     "output_type": "stream",
     "text": [
      "Error fetching data for game_id: 0011300072\n"
     ]
    },
    {
     "name": "stderr",
     "output_type": "stream",
     "text": [
      " 46%|████▌     | 660/1434 [42:29<54:05,  4.19s/it]"
     ]
    },
    {
     "name": "stdout",
     "output_type": "stream",
     "text": [
      "Error fetching data for game_id: 0011300057\n"
     ]
    },
    {
     "name": "stderr",
     "output_type": "stream",
     "text": [
      " 46%|████▌     | 661/1434 [42:31<45:44,  3.55s/it]"
     ]
    },
    {
     "name": "stdout",
     "output_type": "stream",
     "text": [
      "Error fetching data for game_id: 0011300017\n"
     ]
    },
    {
     "name": "stderr",
     "output_type": "stream",
     "text": [
      " 46%|████▌     | 662/1434 [42:33<40:28,  3.15s/it]"
     ]
    },
    {
     "name": "stdout",
     "output_type": "stream",
     "text": [
      "Error fetching data for game_id: 0011300014\n"
     ]
    },
    {
     "name": "stderr",
     "output_type": "stream",
     "text": [
      " 46%|████▌     | 663/1434 [42:35<35:41,  2.78s/it]"
     ]
    },
    {
     "name": "stdout",
     "output_type": "stream",
     "text": [
      "Error fetching data for game_id: 0011300004\n"
     ]
    },
    {
     "name": "stderr",
     "output_type": "stream",
     "text": [
      " 51%|█████     | 730/1434 [47:23<40:47,  3.48s/it]  "
     ]
    },
    {
     "name": "stdout",
     "output_type": "stream",
     "text": [
      "Error fetching data for game_id: 0011300110\n"
     ]
    },
    {
     "name": "stderr",
     "output_type": "stream",
     "text": [
      " 51%|█████     | 731/1434 [47:25<36:28,  3.11s/it]"
     ]
    },
    {
     "name": "stdout",
     "output_type": "stream",
     "text": [
      "Error fetching data for game_id: 0011300105\n"
     ]
    },
    {
     "name": "stderr",
     "output_type": "stream",
     "text": [
      " 51%|█████     | 732/1434 [47:27<32:40,  2.79s/it]"
     ]
    },
    {
     "name": "stdout",
     "output_type": "stream",
     "text": [
      "Error fetching data for game_id: 0011300061\n"
     ]
    },
    {
     "name": "stderr",
     "output_type": "stream",
     "text": [
      " 51%|█████     | 733/1434 [47:29<30:02,  2.57s/it]"
     ]
    },
    {
     "name": "stdout",
     "output_type": "stream",
     "text": [
      "Error fetching data for game_id: 0011300044\n"
     ]
    },
    {
     "name": "stderr",
     "output_type": "stream",
     "text": [
      " 51%|█████     | 734/1434 [47:31<26:43,  2.29s/it]"
     ]
    },
    {
     "name": "stdout",
     "output_type": "stream",
     "text": [
      "Error fetching data for game_id: 0011300031\n"
     ]
    },
    {
     "name": "stderr",
     "output_type": "stream",
     "text": [
      " 55%|█████▌    | 795/1434 [51:53<41:44,  3.92s/it]  "
     ]
    },
    {
     "name": "stdout",
     "output_type": "stream",
     "text": [
      "Error fetching data for game_id: 0011300116\n"
     ]
    },
    {
     "name": "stderr",
     "output_type": "stream",
     "text": [
      " 56%|█████▌    | 796/1434 [51:55<34:30,  3.25s/it]"
     ]
    },
    {
     "name": "stdout",
     "output_type": "stream",
     "text": [
      "Error fetching data for game_id: 0011300102\n"
     ]
    },
    {
     "name": "stderr",
     "output_type": "stream",
     "text": [
      " 56%|█████▌    | 797/1434 [51:57<29:06,  2.74s/it]"
     ]
    },
    {
     "name": "stdout",
     "output_type": "stream",
     "text": [
      "Error fetching data for game_id: 0011300073\n"
     ]
    },
    {
     "name": "stderr",
     "output_type": "stream",
     "text": [
      " 56%|█████▌    | 798/1434 [52:00<29:34,  2.79s/it]"
     ]
    },
    {
     "name": "stdout",
     "output_type": "stream",
     "text": [
      "Error fetching data for game_id: 0011300055\n"
     ]
    },
    {
     "name": "stderr",
     "output_type": "stream",
     "text": [
      " 56%|█████▌    | 799/1434 [52:04<33:21,  3.15s/it]"
     ]
    },
    {
     "name": "stdout",
     "output_type": "stream",
     "text": [
      "Error fetching data for game_id: 0011300049\n"
     ]
    },
    {
     "name": "stderr",
     "output_type": "stream",
     "text": [
      " 56%|█████▌    | 800/1434 [52:06<30:07,  2.85s/it]"
     ]
    },
    {
     "name": "stdout",
     "output_type": "stream",
     "text": [
      "Error fetching data for game_id: 0011300039\n"
     ]
    },
    {
     "name": "stderr",
     "output_type": "stream",
     "text": [
      " 56%|█████▌    | 801/1434 [52:08<28:08,  2.67s/it]"
     ]
    },
    {
     "name": "stdout",
     "output_type": "stream",
     "text": [
      "Error fetching data for game_id: 0011300010\n"
     ]
    },
    {
     "name": "stderr",
     "output_type": "stream",
     "text": [
      " 60%|█████▉    | 855/1434 [56:18<34:58,  3.62s/it]"
     ]
    },
    {
     "name": "stdout",
     "output_type": "stream",
     "text": [
      "Error fetching data for game_id: 0011300111\n"
     ]
    },
    {
     "name": "stderr",
     "output_type": "stream",
     "text": [
      " 60%|█████▉    | 856/1434 [56:20<29:45,  3.09s/it]"
     ]
    },
    {
     "name": "stdout",
     "output_type": "stream",
     "text": [
      "Error fetching data for game_id: 0011300092\n"
     ]
    },
    {
     "name": "stderr",
     "output_type": "stream",
     "text": [
      " 60%|█████▉    | 857/1434 [56:22<26:08,  2.72s/it]"
     ]
    },
    {
     "name": "stdout",
     "output_type": "stream",
     "text": [
      "Error fetching data for game_id: 0011300029\n"
     ]
    },
    {
     "name": "stderr",
     "output_type": "stream",
     "text": [
      " 65%|██████▍   | 932/1434 [1:02:05<28:17,  3.38s/it]  "
     ]
    },
    {
     "name": "stdout",
     "output_type": "stream",
     "text": [
      "Error fetching data for game_id: 0011300113\n"
     ]
    },
    {
     "name": "stderr",
     "output_type": "stream",
     "text": [
      " 65%|██████▌   | 933/1434 [1:02:07<24:34,  2.94s/it]"
     ]
    },
    {
     "name": "stdout",
     "output_type": "stream",
     "text": [
      "Error fetching data for game_id: 0011300076\n"
     ]
    },
    {
     "name": "stderr",
     "output_type": "stream",
     "text": [
      " 65%|██████▌   | 934/1434 [1:02:09<22:19,  2.68s/it]"
     ]
    },
    {
     "name": "stdout",
     "output_type": "stream",
     "text": [
      "Error fetching data for game_id: 0011300069\n"
     ]
    },
    {
     "name": "stderr",
     "output_type": "stream",
     "text": [
      " 65%|██████▌   | 935/1434 [1:02:11<20:28,  2.46s/it]"
     ]
    },
    {
     "name": "stdout",
     "output_type": "stream",
     "text": [
      "Error fetching data for game_id: 0011300051\n"
     ]
    },
    {
     "name": "stderr",
     "output_type": "stream",
     "text": [
      " 65%|██████▌   | 936/1434 [1:02:13<19:58,  2.41s/it]"
     ]
    },
    {
     "name": "stdout",
     "output_type": "stream",
     "text": [
      "Error fetching data for game_id: 0011300036\n"
     ]
    },
    {
     "name": "stderr",
     "output_type": "stream",
     "text": [
      " 65%|██████▌   | 937/1434 [1:02:15<18:16,  2.21s/it]"
     ]
    },
    {
     "name": "stdout",
     "output_type": "stream",
     "text": [
      "Error fetching data for game_id: 0011300030\n"
     ]
    },
    {
     "name": "stderr",
     "output_type": "stream",
     "text": [
      " 69%|██████▉   | 988/1434 [1:06:48<28:54,  3.89s/it]  "
     ]
    },
    {
     "name": "stdout",
     "output_type": "stream",
     "text": [
      "Error fetching data for game_id: 0011300097\n"
     ]
    },
    {
     "name": "stderr",
     "output_type": "stream",
     "text": [
      " 69%|██████▉   | 989/1434 [1:06:50<25:13,  3.40s/it]"
     ]
    },
    {
     "name": "stdout",
     "output_type": "stream",
     "text": [
      "Error fetching data for game_id: 0011300053\n"
     ]
    },
    {
     "name": "stderr",
     "output_type": "stream",
     "text": [
      " 69%|██████▉   | 990/1434 [1:06:52<22:10,  3.00s/it]"
     ]
    },
    {
     "name": "stdout",
     "output_type": "stream",
     "text": [
      "Error fetching data for game_id: 0011300042\n"
     ]
    },
    {
     "name": "stderr",
     "output_type": "stream",
     "text": [
      " 69%|██████▉   | 991/1434 [1:06:54<20:17,  2.75s/it]"
     ]
    },
    {
     "name": "stdout",
     "output_type": "stream",
     "text": [
      "Error fetching data for game_id: 0011300028\n"
     ]
    },
    {
     "name": "stderr",
     "output_type": "stream",
     "text": [
      " 72%|███████▏  | 1036/1434 [1:09:54<25:06,  3.78s/it]"
     ]
    },
    {
     "name": "stdout",
     "output_type": "stream",
     "text": [
      "Error fetching data for game_id: 0011300106\n"
     ]
    },
    {
     "name": "stderr",
     "output_type": "stream",
     "text": [
      " 72%|███████▏  | 1037/1434 [1:09:56<21:47,  3.29s/it]"
     ]
    },
    {
     "name": "stdout",
     "output_type": "stream",
     "text": [
      "Error fetching data for game_id: 0011300095\n"
     ]
    },
    {
     "name": "stderr",
     "output_type": "stream",
     "text": [
      " 72%|███████▏  | 1038/1434 [1:09:58<19:15,  2.92s/it]"
     ]
    },
    {
     "name": "stdout",
     "output_type": "stream",
     "text": [
      "Error fetching data for game_id: 0011300038\n"
     ]
    },
    {
     "name": "stderr",
     "output_type": "stream",
     "text": [
      " 72%|███████▏  | 1039/1434 [1:10:00<16:53,  2.57s/it]"
     ]
    },
    {
     "name": "stdout",
     "output_type": "stream",
     "text": [
      "Error fetching data for game_id: 0011300022\n"
     ]
    },
    {
     "name": "stderr",
     "output_type": "stream",
     "text": [
      " 73%|███████▎  | 1040/1434 [1:10:03<17:24,  2.65s/it]"
     ]
    },
    {
     "name": "stdout",
     "output_type": "stream",
     "text": [
      "Error fetching data for game_id: 0011300008\n"
     ]
    },
    {
     "name": "stderr",
     "output_type": "stream",
     "text": [
      " 76%|███████▌  | 1093/1434 [1:13:44<20:39,  3.63s/it]"
     ]
    },
    {
     "name": "stdout",
     "output_type": "stream",
     "text": [
      "Error fetching data for game_id: 0011300047\n"
     ]
    },
    {
     "name": "stderr",
     "output_type": "stream",
     "text": [
      " 76%|███████▋  | 1094/1434 [1:13:45<16:55,  2.99s/it]"
     ]
    },
    {
     "name": "stdout",
     "output_type": "stream",
     "text": [
      "Error fetching data for game_id: 0011300041\n"
     ]
    },
    {
     "name": "stderr",
     "output_type": "stream",
     "text": [
      " 76%|███████▋  | 1095/1434 [1:13:47<15:12,  2.69s/it]"
     ]
    },
    {
     "name": "stdout",
     "output_type": "stream",
     "text": [
      "Error fetching data for game_id: 0011300015\n"
     ]
    },
    {
     "name": "stderr",
     "output_type": "stream",
     "text": [
      " 79%|███████▉  | 1134/1434 [1:16:24<16:53,  3.38s/it]"
     ]
    },
    {
     "name": "stdout",
     "output_type": "stream",
     "text": [
      "Error fetching data for game_id: 0011300112\n"
     ]
    },
    {
     "name": "stderr",
     "output_type": "stream",
     "text": [
      " 79%|███████▉  | 1135/1434 [1:16:26<14:45,  2.96s/it]"
     ]
    },
    {
     "name": "stdout",
     "output_type": "stream",
     "text": [
      "Error fetching data for game_id: 0011300084\n"
     ]
    },
    {
     "name": "stderr",
     "output_type": "stream",
     "text": [
      " 79%|███████▉  | 1136/1434 [1:16:28<13:15,  2.67s/it]"
     ]
    },
    {
     "name": "stdout",
     "output_type": "stream",
     "text": [
      "Error fetching data for game_id: 0011300064\n"
     ]
    },
    {
     "name": "stderr",
     "output_type": "stream",
     "text": [
      " 79%|███████▉  | 1137/1434 [1:16:34<17:56,  3.62s/it]"
     ]
    },
    {
     "name": "stdout",
     "output_type": "stream",
     "text": [
      "Error fetching data for game_id: 0011300032\n"
     ]
    },
    {
     "name": "stderr",
     "output_type": "stream",
     "text": [
      " 82%|████████▏ | 1174/1434 [1:19:23<14:15,  3.29s/it]"
     ]
    },
    {
     "name": "stdout",
     "output_type": "stream",
     "text": [
      "Error fetching data for game_id: 0011300091\n"
     ]
    },
    {
     "name": "stderr",
     "output_type": "stream",
     "text": [
      " 82%|████████▏ | 1175/1434 [1:19:25<12:28,  2.89s/it]"
     ]
    },
    {
     "name": "stdout",
     "output_type": "stream",
     "text": [
      "Error fetching data for game_id: 0011300080\n"
     ]
    },
    {
     "name": "stderr",
     "output_type": "stream",
     "text": [
      " 82%|████████▏ | 1176/1434 [1:19:27<11:23,  2.65s/it]"
     ]
    },
    {
     "name": "stdout",
     "output_type": "stream",
     "text": [
      "Error fetching data for game_id: 0011300070\n"
     ]
    },
    {
     "name": "stderr",
     "output_type": "stream",
     "text": [
      " 87%|████████▋ | 1244/1434 [1:24:34<11:23,  3.60s/it]"
     ]
    },
    {
     "name": "stdout",
     "output_type": "stream",
     "text": [
      "Error fetching data for game_id: 0011300063\n"
     ]
    },
    {
     "name": "stderr",
     "output_type": "stream",
     "text": [
      " 87%|████████▋ | 1245/1434 [1:24:38<11:54,  3.78s/it]"
     ]
    },
    {
     "name": "stdout",
     "output_type": "stream",
     "text": [
      "Error fetching data for game_id: 0011300021\n"
     ]
    },
    {
     "name": "stderr",
     "output_type": "stream",
     "text": [
      " 87%|████████▋ | 1246/1434 [1:24:40<10:01,  3.20s/it]"
     ]
    },
    {
     "name": "stdout",
     "output_type": "stream",
     "text": [
      "Error fetching data for game_id: 0011300005\n"
     ]
    },
    {
     "name": "stderr",
     "output_type": "stream",
     "text": [
      " 89%|████████▉ | 1278/1434 [1:27:02<11:06,  4.27s/it]"
     ]
    },
    {
     "name": "stdout",
     "output_type": "stream",
     "text": [
      "Error fetching data for game_id: 0011300088\n"
     ]
    },
    {
     "name": "stderr",
     "output_type": "stream",
     "text": [
      " 89%|████████▉ | 1279/1434 [1:27:04<09:18,  3.60s/it]"
     ]
    },
    {
     "name": "stdout",
     "output_type": "stream",
     "text": [
      "Error fetching data for game_id: 0011300067\n"
     ]
    },
    {
     "name": "stderr",
     "output_type": "stream",
     "text": [
      " 89%|████████▉ | 1280/1434 [1:27:06<07:49,  3.05s/it]"
     ]
    },
    {
     "name": "stdout",
     "output_type": "stream",
     "text": [
      "Error fetching data for game_id: 0011300045\n"
     ]
    },
    {
     "name": "stderr",
     "output_type": "stream",
     "text": [
      " 89%|████████▉ | 1281/1434 [1:27:08<06:41,  2.62s/it]"
     ]
    },
    {
     "name": "stdout",
     "output_type": "stream",
     "text": [
      "Error fetching data for game_id: 0011300025\n"
     ]
    },
    {
     "name": "stderr",
     "output_type": "stream",
     "text": [
      " 89%|████████▉ | 1282/1434 [1:27:10<06:13,  2.45s/it]"
     ]
    },
    {
     "name": "stdout",
     "output_type": "stream",
     "text": [
      "Error fetching data for game_id: 0011300009\n"
     ]
    },
    {
     "name": "stderr",
     "output_type": "stream",
     "text": [
      " 92%|█████████▏| 1315/1434 [1:29:34<09:21,  4.71s/it]"
     ]
    },
    {
     "name": "stdout",
     "output_type": "stream",
     "text": [
      "Error fetching data for game_id: 0011300083\n"
     ]
    },
    {
     "name": "stderr",
     "output_type": "stream",
     "text": [
      " 92%|█████████▏| 1316/1434 [1:29:37<08:21,  4.25s/it]"
     ]
    },
    {
     "name": "stdout",
     "output_type": "stream",
     "text": [
      "Error fetching data for game_id: 0011300062\n"
     ]
    },
    {
     "name": "stderr",
     "output_type": "stream",
     "text": [
      " 92%|█████████▏| 1317/1434 [1:29:39<07:14,  3.71s/it]"
     ]
    },
    {
     "name": "stdout",
     "output_type": "stream",
     "text": [
      "Error fetching data for game_id: 0011300035\n"
     ]
    },
    {
     "name": "stderr",
     "output_type": "stream",
     "text": [
      " 95%|█████████▌| 1365/1434 [1:33:49<04:26,  3.86s/it]"
     ]
    },
    {
     "name": "stdout",
     "output_type": "stream",
     "text": [
      "Error fetching data for game_id: 0011300027\n"
     ]
    },
    {
     "name": "stderr",
     "output_type": "stream",
     "text": [
      " 97%|█████████▋| 1389/1434 [1:35:32<03:08,  4.18s/it]"
     ]
    },
    {
     "name": "stdout",
     "output_type": "stream",
     "text": [
      "Error fetching data for game_id: 0011300082\n"
     ]
    },
    {
     "name": "stderr",
     "output_type": "stream",
     "text": [
      " 97%|█████████▋| 1390/1434 [1:35:34<02:39,  3.61s/it]"
     ]
    },
    {
     "name": "stdout",
     "output_type": "stream",
     "text": [
      "Error fetching data for game_id: 0011300001\n"
     ]
    },
    {
     "name": "stderr",
     "output_type": "stream",
     "text": [
      " 98%|█████████▊| 1405/1434 [1:36:40<02:04,  4.28s/it]"
     ]
    },
    {
     "name": "stdout",
     "output_type": "stream",
     "text": [
      "Error fetching data for game_id: 0011300093\n"
     ]
    },
    {
     "name": "stderr",
     "output_type": "stream",
     "text": [
      " 99%|█████████▉| 1421/1434 [1:37:55<00:56,  4.38s/it]"
     ]
    },
    {
     "name": "stdout",
     "output_type": "stream",
     "text": [
      "Error fetching data for game_id: 0011300046\n"
     ]
    },
    {
     "name": "stderr",
     "output_type": "stream",
     "text": [
      "100%|█████████▉| 1430/1434 [1:38:39<00:17,  4.33s/it]"
     ]
    },
    {
     "name": "stdout",
     "output_type": "stream",
     "text": [
      "Error fetching data for game_id: 0011300090\n"
     ]
    },
    {
     "name": "stderr",
     "output_type": "stream",
     "text": [
      "100%|██████████| 1434/1434 [1:38:59<00:00,  4.14s/it]"
     ]
    },
    {
     "name": "stdout",
     "output_type": "stream",
     "text": [
      "Error fetching data for game_id: 0011300020\n"
     ]
    },
    {
     "name": "stderr",
     "output_type": "stream",
     "text": [
      "\n"
     ]
    }
   ],
   "source": [
    "player_game_stats = []\n",
    "\n",
    "for game_id in tqdm(games_data['GAME_ID'].unique()):\n",
    "    try:\n",
    "        #traditional box score stats\n",
    "        boxscore_traditional = boxscoretraditionalv2.BoxScoreTraditionalV2(game_id=game_id)\n",
    "        game_stats_traditional = boxscore_traditional.get_data_frames()[0]\n",
    "        game_stats_traditional['GAME_ID'] = game_id\n",
    "\n",
    "        #advanced box score stats\n",
    "        boxscore_advanced = boxscoreadvancedv2.BoxScoreAdvancedV2(game_id=game_id)\n",
    "        game_stats_advanced = boxscore_advanced.get_data_frames()[0]\n",
    "        game_stats_advanced['GAME_ID'] = game_id\n",
    "\n",
    "        # Merge \n",
    "        merged_stats = pd.merge(game_stats_traditional, game_stats_advanced, on=['GAME_ID', 'TEAM_ID', 'PLAYER_ID'])\n",
    "\n",
    "        player_game_stats.append(merged_stats)\n",
    "        time.sleep(0.6)\n",
    "    except IndexError:\n",
    "        print(f\"Error fetching data for game_id: {game_id}\")\n",
    "        continue\n",
    "\n",
    "player_game_stats = pd.concat(player_game_stats)\n",
    "\n",
    "\n",
    "player_game_stats.to_csv('player_game_stats_full_2013_14.csv', index=False)"
   ]
  },
  {
   "cell_type": "code",
   "execution_count": 15,
   "metadata": {},
   "outputs": [
    {
     "name": "stderr",
     "output_type": "stream",
     "text": [
      "Fetching games data for 2020-21: 100%|██████████| 30/30 [00:27<00:00,  1.08it/s]\n",
      "100%|██████████| 1220/1220 [1:54:28<00:00,  5.63s/it] \n"
     ]
    }
   ],
   "source": [
    "import time\n",
    "from nba_api.stats.endpoints import boxscoretraditionalv2, boxscoreadvancedv2\n",
    "\n",
    "seasons = ['2020-21']\n",
    "completed_players = []\n",
    "\n",
    "for season in seasons:\n",
    "    # Fetch game IDs for the specified season\n",
    "    games_data = []\n",
    "    for team in tqdm(nba_teams, desc=f'Fetching games data for {season}'):\n",
    "        team_id = team['id']\n",
    "        gamefinder = leaguegamefinder.LeagueGameFinder(team_id_nullable=team_id, season_nullable=season)\n",
    "        games_data.append(gamefinder.get_data_frames()[0])\n",
    "        time.sleep(0.6)\n",
    "    games_data = pd.concat(games_data)\n",
    "    \n",
    "    # Fetch player stats for each game\n",
    "    player_game_stats = []\n",
    "    completed = 0\n",
    "    for game_id in tqdm(games_data['GAME_ID'].unique()):\n",
    "        try:\n",
    "            # Fetch traditional box score stats\n",
    "            boxscore_traditional = boxscoretraditionalv2.BoxScoreTraditionalV2(game_id=game_id)\n",
    "            game_stats_traditional = boxscore_traditional.get_data_frames()[0]\n",
    "            game_stats_traditional['GAME_ID'] = game_id\n",
    "            \n",
    "            time.sleep(0.6)\n",
    "            # Fetch advanced box score stats\n",
    "            boxscore_advanced = boxscoreadvancedv2.BoxScoreAdvancedV2(game_id=game_id)\n",
    "            game_stats_advanced = boxscore_advanced.get_data_frames()[0]\n",
    "            game_stats_advanced['GAME_ID'] = game_id\n",
    "\n",
    "            # Merge traditional and advanced stats on common columns\n",
    "            merged_stats = pd.merge(game_stats_traditional, game_stats_advanced, on=['GAME_ID', 'TEAM_ID', 'PLAYER_ID'])\n",
    "\n",
    "            player_game_stats.append(merged_stats)\n",
    "            completed += 1\n",
    "            time.sleep(0.6)\n",
    "        except IndexError:\n",
    "            print(f\"Error fetching data for game_id: {game_id} season {season}\")\n",
    "            continue\n",
    "\n",
    "    # Combine player game stats into a single DataFrame\n",
    "    player_game_stats = pd.concat(player_game_stats)\n",
    "\n",
    "    # Save the DataFrame as a CSV file for each season\n",
    "    player_game_stats.to_csv(f'player_game_stats_full_{season}.csv', index=False)\n",
    "    completed_players.append(completed)\n"
   ]
  },
  {
   "cell_type": "code",
   "execution_count": null,
   "metadata": {},
   "outputs": [],
   "source": [
    "'''This works but lets try to get more stats\n",
    "# Fetch player stats for each game\n",
    "player_game_stats = []\n",
    "\n",
    "for game_id in tqdm(games_data['GAME_ID'].unique()):\n",
    "    try:\n",
    "        boxscore = boxscoreadvancedv2.BoxScoreAdvancedV2(game_id=game_id)\n",
    "        game_stats = boxscore.get_data_frames()[0]\n",
    "        game_stats['GAME_ID'] = game_id\n",
    "        player_game_stats.append(game_stats)\n",
    "        time.sleep(0.6)\n",
    "    except IndexError:\n",
    "        print(f\"Error fetching data for game_id: {game_id}\")\n",
    "        continue\n",
    "\n",
    "\n",
    "# Combine player game stats into a single DataFrame\n",
    "player_game_stats = pd.concat(player_game_stats)\n",
    "\n",
    "# Save the DataFrame as a CSV file\n",
    "player_game_stats.to_csv('player_game_stats_2013_14.csv', index=False)'''\n"
   ]
  },
  {
   "cell_type": "code",
   "execution_count": null,
   "metadata": {},
   "outputs": [],
   "source": [
    "import random\n",
    "import time\n",
    "from concurrent.futures import ThreadPoolExecutor, as_completed\n",
    "\n",
    "def fetch_game_data(game_id):\n",
    "    retries = 0\n",
    "    max_retries = 5\n",
    "    backoff_factor = 2\n",
    "\n",
    "    while retries < max_retries:\n",
    "        try:\n",
    "            time.sleep(0.6 * random.uniform(0.5, 1.5))\n",
    "            boxscore = boxscoreadvancedv2.BoxScoreAdvancedV2(game_id=game_id)\n",
    "            game_stats = boxscore.get_data_frames()[0]\n",
    "            game_stats['GAME_ID'] = game_id\n",
    "            return game_stats\n",
    "        except IndexError:\n",
    "            retries += 1\n",
    "            time.sleep(retries * backoff_factor)\n",
    "            continue\n",
    "    print(f\"Error fetching data for game_id: {game_id}\")\n",
    "    return None\n",
    "\n",
    "player_game_stats = []\n",
    "\n",
    "# Limit the number of active threads\n",
    "max_workers = 5\n",
    "\n",
    "# Concatenate all DataFrames in the list into a single DataFrame\n",
    "games_data_df = pd.concat(games_data)\n",
    "\n",
    "# Extract unique game IDs\n",
    "unique_game_ids = games_data_df['GAME_ID'].unique()\n",
    "\n",
    "with ThreadPoolExecutor(max_workers=max_workers) as executor:\n",
    "    futures = [executor.submit(fetch_game_data, game_id) for game_id in unique_game_ids]\n",
    "\n",
    "    for future in tqdm(as_completed(futures), total=len(futures)):\n",
    "        result = future.result()\n",
    "        if result is not None:\n",
    "            player_game_stats.append(result)\n",
    "\n",
    "\n"
   ]
  },
  {
   "cell_type": "code",
   "execution_count": 19,
   "metadata": {},
   "outputs": [
    {
     "data": {
      "text/html": [
       "<div>\n",
       "<style scoped>\n",
       "    .dataframe tbody tr th:only-of-type {\n",
       "        vertical-align: middle;\n",
       "    }\n",
       "\n",
       "    .dataframe tbody tr th {\n",
       "        vertical-align: top;\n",
       "    }\n",
       "\n",
       "    .dataframe thead th {\n",
       "        text-align: right;\n",
       "    }\n",
       "</style>\n",
       "<table border=\"1\" class=\"dataframe\">\n",
       "  <thead>\n",
       "    <tr style=\"text-align: right;\">\n",
       "      <th></th>\n",
       "      <th>SEASON_ID</th>\n",
       "      <th>TEAM_ID</th>\n",
       "      <th>TEAM_ABBREVIATION</th>\n",
       "      <th>TEAM_NAME</th>\n",
       "      <th>GAME_ID</th>\n",
       "      <th>GAME_DATE</th>\n",
       "      <th>MATCHUP</th>\n",
       "      <th>WL</th>\n",
       "      <th>MIN</th>\n",
       "      <th>PTS</th>\n",
       "      <th>...</th>\n",
       "      <th>FT_PCT</th>\n",
       "      <th>OREB</th>\n",
       "      <th>DREB</th>\n",
       "      <th>REB</th>\n",
       "      <th>AST</th>\n",
       "      <th>STL</th>\n",
       "      <th>BLK</th>\n",
       "      <th>TOV</th>\n",
       "      <th>PF</th>\n",
       "      <th>PLUS_MINUS</th>\n",
       "    </tr>\n",
       "  </thead>\n",
       "  <tbody>\n",
       "    <tr>\n",
       "      <th>0</th>\n",
       "      <td>22013</td>\n",
       "      <td>1610612739</td>\n",
       "      <td>CLE</td>\n",
       "      <td>Cleveland Cavaliers</td>\n",
       "      <td>0021301224</td>\n",
       "      <td>2014-04-16</td>\n",
       "      <td>CLE vs. BKN</td>\n",
       "      <td>W</td>\n",
       "      <td>239</td>\n",
       "      <td>114</td>\n",
       "      <td>...</td>\n",
       "      <td>0.824</td>\n",
       "      <td>13</td>\n",
       "      <td>38</td>\n",
       "      <td>51</td>\n",
       "      <td>32</td>\n",
       "      <td>10</td>\n",
       "      <td>7</td>\n",
       "      <td>12</td>\n",
       "      <td>18</td>\n",
       "      <td>29.0</td>\n",
       "    </tr>\n",
       "    <tr>\n",
       "      <th>1</th>\n",
       "      <td>22013</td>\n",
       "      <td>1610612739</td>\n",
       "      <td>CLE</td>\n",
       "      <td>Cleveland Cavaliers</td>\n",
       "      <td>0021301193</td>\n",
       "      <td>2014-04-12</td>\n",
       "      <td>CLE vs. BOS</td>\n",
       "      <td>L</td>\n",
       "      <td>239</td>\n",
       "      <td>99</td>\n",
       "      <td>...</td>\n",
       "      <td>0.667</td>\n",
       "      <td>15</td>\n",
       "      <td>34</td>\n",
       "      <td>49</td>\n",
       "      <td>22</td>\n",
       "      <td>2</td>\n",
       "      <td>2</td>\n",
       "      <td>11</td>\n",
       "      <td>20</td>\n",
       "      <td>-12.0</td>\n",
       "    </tr>\n",
       "    <tr>\n",
       "      <th>2</th>\n",
       "      <td>22013</td>\n",
       "      <td>1610612739</td>\n",
       "      <td>CLE</td>\n",
       "      <td>Cleveland Cavaliers</td>\n",
       "      <td>0021301185</td>\n",
       "      <td>2014-04-11</td>\n",
       "      <td>CLE @ MIL</td>\n",
       "      <td>L</td>\n",
       "      <td>240</td>\n",
       "      <td>116</td>\n",
       "      <td>...</td>\n",
       "      <td>0.800</td>\n",
       "      <td>11</td>\n",
       "      <td>29</td>\n",
       "      <td>40</td>\n",
       "      <td>18</td>\n",
       "      <td>11</td>\n",
       "      <td>4</td>\n",
       "      <td>10</td>\n",
       "      <td>27</td>\n",
       "      <td>-3.0</td>\n",
       "    </tr>\n",
       "    <tr>\n",
       "      <th>3</th>\n",
       "      <td>22013</td>\n",
       "      <td>1610612739</td>\n",
       "      <td>CLE</td>\n",
       "      <td>Cleveland Cavaliers</td>\n",
       "      <td>0021301162</td>\n",
       "      <td>2014-04-09</td>\n",
       "      <td>CLE vs. DET</td>\n",
       "      <td>W</td>\n",
       "      <td>240</td>\n",
       "      <td>122</td>\n",
       "      <td>...</td>\n",
       "      <td>0.556</td>\n",
       "      <td>13</td>\n",
       "      <td>34</td>\n",
       "      <td>47</td>\n",
       "      <td>41</td>\n",
       "      <td>8</td>\n",
       "      <td>6</td>\n",
       "      <td>15</td>\n",
       "      <td>24</td>\n",
       "      <td>22.0</td>\n",
       "    </tr>\n",
       "    <tr>\n",
       "      <th>4</th>\n",
       "      <td>22013</td>\n",
       "      <td>1610612739</td>\n",
       "      <td>CLE</td>\n",
       "      <td>Cleveland Cavaliers</td>\n",
       "      <td>0021301145</td>\n",
       "      <td>2014-04-05</td>\n",
       "      <td>CLE vs. CHA</td>\n",
       "      <td>L</td>\n",
       "      <td>266</td>\n",
       "      <td>94</td>\n",
       "      <td>...</td>\n",
       "      <td>0.810</td>\n",
       "      <td>10</td>\n",
       "      <td>41</td>\n",
       "      <td>51</td>\n",
       "      <td>22</td>\n",
       "      <td>5</td>\n",
       "      <td>3</td>\n",
       "      <td>11</td>\n",
       "      <td>18</td>\n",
       "      <td>-2.0</td>\n",
       "    </tr>\n",
       "    <tr>\n",
       "      <th>...</th>\n",
       "      <td>...</td>\n",
       "      <td>...</td>\n",
       "      <td>...</td>\n",
       "      <td>...</td>\n",
       "      <td>...</td>\n",
       "      <td>...</td>\n",
       "      <td>...</td>\n",
       "      <td>...</td>\n",
       "      <td>...</td>\n",
       "      <td>...</td>\n",
       "      <td>...</td>\n",
       "      <td>...</td>\n",
       "      <td>...</td>\n",
       "      <td>...</td>\n",
       "      <td>...</td>\n",
       "      <td>...</td>\n",
       "      <td>...</td>\n",
       "      <td>...</td>\n",
       "      <td>...</td>\n",
       "      <td>...</td>\n",
       "      <td>...</td>\n",
       "    </tr>\n",
       "    <tr>\n",
       "      <th>85</th>\n",
       "      <td>12013</td>\n",
       "      <td>1610612739</td>\n",
       "      <td>CLE</td>\n",
       "      <td>Cleveland Cavaliers</td>\n",
       "      <td>0011300077</td>\n",
       "      <td>2013-10-19</td>\n",
       "      <td>CLE vs. IND</td>\n",
       "      <td>L</td>\n",
       "      <td>239</td>\n",
       "      <td>79</td>\n",
       "      <td>...</td>\n",
       "      <td>0.732</td>\n",
       "      <td>17</td>\n",
       "      <td>38</td>\n",
       "      <td>55</td>\n",
       "      <td>17</td>\n",
       "      <td>7</td>\n",
       "      <td>4</td>\n",
       "      <td>22</td>\n",
       "      <td>37</td>\n",
       "      <td>-23.0</td>\n",
       "    </tr>\n",
       "    <tr>\n",
       "      <th>86</th>\n",
       "      <td>12013</td>\n",
       "      <td>1610612739</td>\n",
       "      <td>CLE</td>\n",
       "      <td>Cleveland Cavaliers</td>\n",
       "      <td>0011300065</td>\n",
       "      <td>2013-10-17</td>\n",
       "      <td>CLE vs. DET</td>\n",
       "      <td>W</td>\n",
       "      <td>239</td>\n",
       "      <td>96</td>\n",
       "      <td>...</td>\n",
       "      <td>0.737</td>\n",
       "      <td>17</td>\n",
       "      <td>31</td>\n",
       "      <td>48</td>\n",
       "      <td>27</td>\n",
       "      <td>11</td>\n",
       "      <td>5</td>\n",
       "      <td>21</td>\n",
       "      <td>28</td>\n",
       "      <td>12.0</td>\n",
       "    </tr>\n",
       "    <tr>\n",
       "      <th>87</th>\n",
       "      <td>12013</td>\n",
       "      <td>1610612739</td>\n",
       "      <td>CLE</td>\n",
       "      <td>Cleveland Cavaliers</td>\n",
       "      <td>0011300052</td>\n",
       "      <td>2013-10-15</td>\n",
       "      <td>CLE vs. CHA</td>\n",
       "      <td>L</td>\n",
       "      <td>240</td>\n",
       "      <td>74</td>\n",
       "      <td>...</td>\n",
       "      <td>0.833</td>\n",
       "      <td>10</td>\n",
       "      <td>32</td>\n",
       "      <td>42</td>\n",
       "      <td>18</td>\n",
       "      <td>5</td>\n",
       "      <td>4</td>\n",
       "      <td>25</td>\n",
       "      <td>31</td>\n",
       "      <td>-18.0</td>\n",
       "    </tr>\n",
       "    <tr>\n",
       "      <th>88</th>\n",
       "      <td>12013</td>\n",
       "      <td>1610612739</td>\n",
       "      <td>CLE</td>\n",
       "      <td>Cleveland Cavaliers</td>\n",
       "      <td>0011300034</td>\n",
       "      <td>2013-10-11</td>\n",
       "      <td>CLE @ ORL</td>\n",
       "      <td>W</td>\n",
       "      <td>240</td>\n",
       "      <td>110</td>\n",
       "      <td>...</td>\n",
       "      <td>0.804</td>\n",
       "      <td>13</td>\n",
       "      <td>23</td>\n",
       "      <td>36</td>\n",
       "      <td>20</td>\n",
       "      <td>15</td>\n",
       "      <td>3</td>\n",
       "      <td>12</td>\n",
       "      <td>25</td>\n",
       "      <td>5.0</td>\n",
       "    </tr>\n",
       "    <tr>\n",
       "      <th>89</th>\n",
       "      <td>12013</td>\n",
       "      <td>1610612739</td>\n",
       "      <td>CLE</td>\n",
       "      <td>Cleveland Cavaliers</td>\n",
       "      <td>0011300016</td>\n",
       "      <td>2013-10-08</td>\n",
       "      <td>CLE vs. MIL</td>\n",
       "      <td>W</td>\n",
       "      <td>240</td>\n",
       "      <td>99</td>\n",
       "      <td>...</td>\n",
       "      <td>0.706</td>\n",
       "      <td>19</td>\n",
       "      <td>31</td>\n",
       "      <td>50</td>\n",
       "      <td>21</td>\n",
       "      <td>11</td>\n",
       "      <td>5</td>\n",
       "      <td>26</td>\n",
       "      <td>33</td>\n",
       "      <td>12.0</td>\n",
       "    </tr>\n",
       "  </tbody>\n",
       "</table>\n",
       "<p>90 rows × 28 columns</p>\n",
       "</div>"
      ],
      "text/plain": [
       "   SEASON_ID     TEAM_ID TEAM_ABBREVIATION            TEAM_NAME     GAME_ID  \\\n",
       "0      22013  1610612739               CLE  Cleveland Cavaliers  0021301224   \n",
       "1      22013  1610612739               CLE  Cleveland Cavaliers  0021301193   \n",
       "2      22013  1610612739               CLE  Cleveland Cavaliers  0021301185   \n",
       "3      22013  1610612739               CLE  Cleveland Cavaliers  0021301162   \n",
       "4      22013  1610612739               CLE  Cleveland Cavaliers  0021301145   \n",
       "..       ...         ...               ...                  ...         ...   \n",
       "85     12013  1610612739               CLE  Cleveland Cavaliers  0011300077   \n",
       "86     12013  1610612739               CLE  Cleveland Cavaliers  0011300065   \n",
       "87     12013  1610612739               CLE  Cleveland Cavaliers  0011300052   \n",
       "88     12013  1610612739               CLE  Cleveland Cavaliers  0011300034   \n",
       "89     12013  1610612739               CLE  Cleveland Cavaliers  0011300016   \n",
       "\n",
       "     GAME_DATE      MATCHUP WL  MIN  PTS  ...  FT_PCT  OREB  DREB  REB  AST  \\\n",
       "0   2014-04-16  CLE vs. BKN  W  239  114  ...   0.824    13    38   51   32   \n",
       "1   2014-04-12  CLE vs. BOS  L  239   99  ...   0.667    15    34   49   22   \n",
       "2   2014-04-11    CLE @ MIL  L  240  116  ...   0.800    11    29   40   18   \n",
       "3   2014-04-09  CLE vs. DET  W  240  122  ...   0.556    13    34   47   41   \n",
       "4   2014-04-05  CLE vs. CHA  L  266   94  ...   0.810    10    41   51   22   \n",
       "..         ...          ... ..  ...  ...  ...     ...   ...   ...  ...  ...   \n",
       "85  2013-10-19  CLE vs. IND  L  239   79  ...   0.732    17    38   55   17   \n",
       "86  2013-10-17  CLE vs. DET  W  239   96  ...   0.737    17    31   48   27   \n",
       "87  2013-10-15  CLE vs. CHA  L  240   74  ...   0.833    10    32   42   18   \n",
       "88  2013-10-11    CLE @ ORL  W  240  110  ...   0.804    13    23   36   20   \n",
       "89  2013-10-08  CLE vs. MIL  W  240   99  ...   0.706    19    31   50   21   \n",
       "\n",
       "    STL  BLK  TOV  PF  PLUS_MINUS  \n",
       "0    10    7   12  18        29.0  \n",
       "1     2    2   11  20       -12.0  \n",
       "2    11    4   10  27        -3.0  \n",
       "3     8    6   15  24        22.0  \n",
       "4     5    3   11  18        -2.0  \n",
       "..  ...  ...  ...  ..         ...  \n",
       "85    7    4   22  37       -23.0  \n",
       "86   11    5   21  28        12.0  \n",
       "87    5    4   25  31       -18.0  \n",
       "88   15    3   12  25         5.0  \n",
       "89   11    5   26  33        12.0  \n",
       "\n",
       "[90 rows x 28 columns]"
      ]
     },
     "execution_count": 19,
     "metadata": {},
     "output_type": "execute_result"
    }
   ],
   "source": [
    "games_data[0]"
   ]
  },
  {
   "cell_type": "code",
   "execution_count": null,
   "metadata": {},
   "outputs": [],
   "source": [
    "'''# Fetch data for one season at a time\n",
    "for season in seasons:\n",
    "    # Get games data for the specified season\n",
    "    games_data = []\n",
    "    for team in tqdm(nba_teams, desc=f'Fetching games data {season} season'):\n",
    "        team_id = team['id']\n",
    "        gamefinder = leaguegamefinder.LeagueGameFinder(team_id_nullable=team_id, season_nullable=season)\n",
    "        games = gamefinder.get_data_frames()[0]\n",
    "        games_data.append(games)\n",
    "        time.sleep(.600)\n",
    "\n",
    "    # Combine games data into a single DataFrame\n",
    "    games_data = pd.concat(games_data)\n",
    "all_games_data.append(games_data)\n",
    "'''"
   ]
  },
  {
   "cell_type": "code",
   "execution_count": 63,
   "metadata": {},
   "outputs": [
    {
     "name": "stderr",
     "output_type": "stream",
     "text": [
      "Fetching team and player stats 2020-21 season: 100%|██████████| 30/30 [02:12<00:00,  4.40s/it]\n"
     ]
    }
   ],
   "source": [
    "'''\n",
    "#Fetches team and player data for each season\n",
    "\n",
    "season = seasons[0]\n",
    "# Get all players who played in the current season\n",
    "season_players = commonallplayers.CommonAllPlayers(season=season, league_id='00', is_only_current_season=1)\n",
    "season_players_df = season_players.get_data_frames()[0]\n",
    "\n",
    "team_season_stats = []\n",
    "player_season_stats = []\n",
    "\n",
    "for team in tqdm(nba_teams, desc=f'Fetching team and player stats {season} season'):\n",
    "    team_id = team['id']\n",
    "    team_log = teamgamelog.TeamGameLog(team_id=team_id, season=season)\n",
    "    team_stats = team_log.get_data_frames()[0]\n",
    "    team_season_stats.append(team_stats)\n",
    "    time.sleep(.600)\n",
    "\n",
    "    # Get players for the current team in the season\n",
    "    team_players = season_players_df[season_players_df['TEAM_ID'] == team_id]\n",
    "\n",
    "    for _, player in team_players.iterrows():\n",
    "        player_id = player['PERSON_ID']\n",
    "        player_log = playergamelog.PlayerGameLog(player_id=player_id, season=season)\n",
    "        player_stats = player_log.get_data_frames()[0]\n",
    "        player_season_stats.append(player_stats)\n",
    "        time.sleep(.600)\n",
    "\n",
    "# Combine team and player stats into DataFrames\n",
    "team_season_stats = pd.concat(team_season_stats)\n",
    "player_season_stats = pd.concat(player_season_stats)\n",
    "\n",
    "# Save the DataFrames for the current season\n",
    "games_data.to_csv(f'games_data_{season}.csv', index=False)\n",
    "team_season_stats.to_csv(f'team_season_stats_{season}.csv', index=False)\n",
    "player_season_stats.to_csv(f'player_season_stats_{season}.csv', index=False)\n",
    "'''"
   ]
  },
  {
   "cell_type": "code",
   "execution_count": 95,
   "metadata": {},
   "outputs": [],
   "source": [
    "#Pulls player names and ids\n",
    "\n",
    "from nba_api.stats.static import players\n",
    "from nba_api.stats.endpoints import playerprofilev2\n",
    "import pandas as pd\n",
    "from tqdm import tqdm\n",
    "\n",
    "# Define the seasons you want to fetch data for\n",
    "seasons = ['2013-14', '2014-15', '2015-16', '2016-17', '2017-18', '2018-19', '2020-21']\n",
    "\n",
    "# Get all NBA players\n",
    "all_players = players.get_players()\n",
    "\n",
    "# Fetch player data for the specified seasons\n",
    "player_id_name = []\n",
    "\n",
    "for player in all_players:\n",
    "    player_id = player['id']\n",
    "    player_name = player['full_name']\n",
    "\n",
    "    player_id_name.append({\n",
    "        'player_id': player_id,\n",
    "        'player_name': player_name\n",
    "    })\n",
    "\n",
    "# Convert the list of dictionaries to a DataFrame\n",
    "player_id_name_df = pd.DataFrame(player_id_name)\n",
    "\n",
    "# Save the DataFrame as a CSV file\n",
    "player_id_name_df.to_csv('player_id_name.csv', index=False)\n",
    "\n"
   ]
  },
  {
   "cell_type": "code",
   "execution_count": null,
   "metadata": {},
   "outputs": [],
   "source": [
    "'''\n",
    "from nba_api.stats.endpoints import leaguegamefinder\n",
    "from tqdm import tqdm\n",
    "\n",
    "# Define the seasons you want to fetch data for\n",
    "seasons = ['2013-14', '2014-15', '2015-16', '2016-17', '2017-18', '2018-19', '2020-21']\n",
    "\n",
    "all_game_ids = []\n",
    "\n",
    "for season in tqdm(seasons, desc='Fetching game IDs for all seasons'):\n",
    "    gamefinder = leaguegamefinder.LeagueGameFinder(season_nullable=season)\n",
    "    games = gamefinder.get_data_frames()[0]\n",
    "    game_ids = games['GAME_ID'].unique()\n",
    "    all_game_ids.extend(game_ids)\n",
    "    time.sleep(.600)\n",
    "\n",
    "#attempts to pull all positions from all games -- too expensive\n",
    "games_active_players = []\n",
    "\n",
    "for game_id in tqdm(all_game_ids, desc=\"Fetching player positions\"):\n",
    "    boxscore = boxscoreplayertrackv2.BoxScorePlayerTrackV2(game_id=game_id)\n",
    "    active_players = boxscore.get_data_frames()[0][['GAME_ID', 'TEAM_ID', 'PLAYER_ID', 'START_POSITION', 'COMMENT']]\n",
    "    active_players['GAME_ID'] = game_id\n",
    "    games_active_players.append(active_players)\n",
    "    time.sleep(.600)\n",
    "\n",
    "# Combine active players data into a single DataFrame\n",
    "games_active_players = pd.concat(games_active_players)\n",
    "\n",
    "# Save the DataFrame\n",
    "games_active_players.to_csv('games_active_players.csv', index=False)\n",
    "'''"
   ]
  },
  {
   "cell_type": "code",
   "execution_count": null,
   "metadata": {},
   "outputs": [],
   "source": []
  }
 ],
 "metadata": {
  "kernelspec": {
   "display_name": "ptorch",
   "language": "python",
   "name": "python3"
  },
  "language_info": {
   "codemirror_mode": {
    "name": "ipython",
    "version": 3
   },
   "file_extension": ".py",
   "mimetype": "text/x-python",
   "name": "python",
   "nbconvert_exporter": "python",
   "pygments_lexer": "ipython3",
   "version": "3.9.0"
  },
  "orig_nbformat": 4
 },
 "nbformat": 4,
 "nbformat_minor": 2
}
